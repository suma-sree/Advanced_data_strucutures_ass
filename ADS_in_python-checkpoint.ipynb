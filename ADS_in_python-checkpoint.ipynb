{
 "cells": [
  {
   "cell_type": "code",
   "execution_count": 10,
   "id": "a1182466-5ec2-4ee1-8f9f-24231a4375a0",
   "metadata": {},
   "outputs": [
    {
     "name": "stdout",
     "output_type": "stream",
     "text": [
      "ecneicS atad\n"
     ]
    }
   ],
   "source": [
    "#  1.Reversing a String\n",
    "string = \"data Science\"\n",
    "print(string[::-1])"
   ]
  },
  {
   "cell_type": "code",
   "execution_count": 11,
   "id": "eea85849-f70f-44ad-9e10-d105fe3126a0",
   "metadata": {},
   "outputs": [
    {
     "name": "stdout",
     "output_type": "stream",
     "text": [
      "count of Vowels :  5\n"
     ]
    }
   ],
   "source": [
    "#  2.counting no of vowels in a string\n",
    "string = \"Data Science\"\n",
    "count = 0\n",
    "for i in string:\n",
    "    if i in ['a','e','i','o','u','A','E','I','O','U']:\n",
    "        count+=1\n",
    "print(\"count of Vowels : \",count)"
   ]
  },
  {
   "cell_type": "code",
   "execution_count": 12,
   "id": "a4021b70-ba07-4251-a023-cfc55763ebbb",
   "metadata": {},
   "outputs": [
    {
     "name": "stdout",
     "output_type": "stream",
     "text": [
      "Given string is a palindrome\n"
     ]
    }
   ],
   "source": [
    "# 3.To check for String palindrome\n",
    "string = \"madam\"\n",
    "rev = string[::-1]\n",
    "if string == rev:\n",
    "    print(\"Given string is a palindrome\")\n",
    "else:\n",
    "    print(\"not a palindrome\")\n",
    "    "
   ]
  },
  {
   "cell_type": "code",
   "execution_count": 13,
   "id": "2a456108-8131-4424-a3e8-83d4fe2eb643",
   "metadata": {},
   "outputs": [
    {
     "name": "stdout",
     "output_type": "stream",
     "text": [
      "Anagrams\n"
     ]
    }
   ],
   "source": [
    "# 4.To check if two strings are anagrams of each other\n",
    "str1 = \"python\"\n",
    "str2 = \"pthony\"\n",
    "if sorted(str1) == sorted(str2):\n",
    "    print(\"Anagrams\")\n",
    "else:\n",
    "    print(\"Not anagrams\")"
   ]
  },
  {
   "cell_type": "code",
   "execution_count": 14,
   "id": "4ddf6ac3-5282-4362-9f55-4764d16c03f9",
   "metadata": {},
   "outputs": [
    {
     "name": "stdout",
     "output_type": "stream",
     "text": [
      "[19, 54]\n"
     ]
    }
   ],
   "source": [
    "# 5.Return all the occurences of a substring in a String\n",
    "sub_string = \"forest\"\n",
    "string = \"The lion is in the forest.The lion is the king of the forest.\"\n",
    "start = 0\n",
    "occurences = []\n",
    "\n",
    "while True:\n",
    "    start = string.find(sub_string , start)\n",
    "\n",
    "    if start == -1:\n",
    "        break\n",
    "    occurences.append(start)\n",
    "    start += 1\n",
    "print(occurences)"
   ]
  },
  {
   "cell_type": "code",
   "execution_count": 20,
   "id": "9b803427-f1ad-4b37-a8ce-cdc97f9cf0a8",
   "metadata": {},
   "outputs": [
    {
     "name": "stdout",
     "output_type": "stream",
     "text": [
      "a4b2cd3\n"
     ]
    }
   ],
   "source": [
    "# 6.Return compressed string\n",
    "string = \"aaaabbcddd\"\n",
    "compressed = []\n",
    "count = 1\n",
    "for i in range(1,len(string)):\n",
    "    if string[i] == string[i-1]:\n",
    "        count +=1\n",
    "    else:\n",
    "        compressed.append(string[i-1]+str(count) if count > 1 else string[i-1])\n",
    "        count = 1\n",
    "compressed.append(string[i-1] + str(count) if count > 1 else string[i-1])\n",
    "compressed_string = ''.join(compressed)\n",
    "print(compressed_string)"
   ]
  },
  {
   "cell_type": "code",
   "execution_count": 22,
   "id": "dd011298-3884-4641-b230-e93ac26a862e",
   "metadata": {},
   "outputs": [
    {
     "name": "stdout",
     "output_type": "stream",
     "text": [
      "False\n"
     ]
    }
   ],
   "source": [
    "# 7.To check if the string has all the unique characters or not\n",
    "string = \"sree\"\n",
    "s = set(string)\n",
    "\n",
    "if len(string) == len(s):\n",
    "    print(\"True\")\n",
    "else:\n",
    "    print(\"False\")"
   ]
  },
  {
   "cell_type": "code",
   "execution_count": 25,
   "id": "469bd100-9f7c-4ede-87ff-718efb2e939c",
   "metadata": {},
   "outputs": [
    {
     "name": "stdout",
     "output_type": "stream",
     "text": [
      "DATA SCIENCE\n",
      "data science\n"
     ]
    }
   ],
   "source": [
    "# 8.To convert the string to uppercase or lower case\n",
    "s = \"Data Science\"\n",
    "#using upper() method\n",
    "print(s.upper())\n",
    "#using lower() method\n",
    "print(s.lower())"
   ]
  },
  {
   "cell_type": "code",
   "execution_count": 28,
   "id": "a6d17003-b806-4cb0-b370-7d1e1781b4f3",
   "metadata": {},
   "outputs": [
    {
     "name": "stdout",
     "output_type": "stream",
     "text": [
      "4\n"
     ]
    }
   ],
   "source": [
    "#  9.To count the no of words in a given string\n",
    "s = \"My name is sree\"\n",
    "print(s.count(' ')+1) "
   ]
  },
  {
   "cell_type": "code",
   "execution_count": 30,
   "id": "c4ab9a43-ce52-45d4-894b-cde1eb1905ec",
   "metadata": {},
   "outputs": [
    {
     "name": "stdout",
     "output_type": "stream",
     "text": [
      "Datascience\n"
     ]
    }
   ],
   "source": [
    "# 10.Concatenation using '+' operator\n",
    "str1 = \"Data\"\n",
    "str2 = \"science\"\n",
    "concatenated_string = str1+str2\n",
    "print(concatenated_string)"
   ]
  },
  {
   "cell_type": "code",
   "execution_count": 35,
   "id": "507c10a3-6aeb-499f-8bf9-f0650abcaa38",
   "metadata": {},
   "outputs": [
    {
     "name": "stdout",
     "output_type": "stream",
     "text": [
      "[1, 2, 4, 5, 2, 5]\n"
     ]
    }
   ],
   "source": [
    "# 11. Remove all occurences of an item in a list\n",
    "\n",
    "#Using remove() method\n",
    "l = [1,2,3,4,5,2,3,5]\n",
    "item_to_remove = 3\n",
    "\n",
    "for i in l:\n",
    "    if i == item_to_remove:\n",
    "        l.remove(i)\n",
    "\n",
    "print(l)"
   ]
  },
  {
   "cell_type": "code",
   "execution_count": 36,
   "id": "109c0ea5-bf75-4d74-9bf8-cb7ddd4cd1ba",
   "metadata": {},
   "outputs": [
    {
     "name": "stdout",
     "output_type": "stream",
     "text": [
      "[1, 2, 4, 5, 2, 5]\n"
     ]
    }
   ],
   "source": [
    "#using list_comprehension\n",
    "l = [1,2,3,4,5,2,3,5]\n",
    "item_to_remove = 3\n",
    "\n",
    "res = [ i for i in l if i != item_to_remove]\n",
    "print(res)\n"
   ]
  },
  {
   "cell_type": "code",
   "execution_count": 46,
   "id": "a6e5819e-37d1-4296-be4c-02b4824cfb73",
   "metadata": {},
   "outputs": [
    {
     "name": "stdout",
     "output_type": "stream",
     "text": [
      "123\n"
     ]
    }
   ],
   "source": [
    "# 12 .To find second largest number in list of integers\n",
    "\n",
    "#using loop\n",
    "l = [112,53,83,92,123,78,30,788]\n",
    "max = second_largest = 0\n",
    "\n",
    "for i in l :\n",
    "    if i > max:\n",
    "        second_largest = max\n",
    "        max = i\n",
    "    elif i>second_largest and i != max:\n",
    "        second_largest = i\n",
    "print(second_largest)"
   ]
  },
  {
   "cell_type": "code",
   "execution_count": 44,
   "id": "14b765bd-40e2-4124-86af-652702d6ea6f",
   "metadata": {},
   "outputs": [
    {
     "name": "stdout",
     "output_type": "stream",
     "text": [
      "123\n"
     ]
    }
   ],
   "source": [
    "#using sorted()\n",
    "print(sorted(l)[-2])"
   ]
  },
  {
   "cell_type": "code",
   "execution_count": 74,
   "id": "4418ba2a-5cf8-4abf-9818-f56c84bc101a",
   "metadata": {},
   "outputs": [
    {
     "name": "stdout",
     "output_type": "stream",
     "text": [
      "{1: 3, 2: 4, 3: 1, 4: 1, 5: 1, 6: 1}\n"
     ]
    }
   ],
   "source": [
    "# 13.to create a dictionary with list elements as keys and their count of occurence as value\n",
    "l = [1,2,1,2,1,3,2,4,2,5,6]\n",
    "d = {}\n",
    "\n",
    "for i in l:\n",
    "    d[i] = l.count(i)\n",
    "print(d)"
   ]
  },
  {
   "cell_type": "code",
   "execution_count": 47,
   "id": "ff5270aa-022a-439a-b706-cde4b5e2c49b",
   "metadata": {},
   "outputs": [
    {
     "name": "stdout",
     "output_type": "stream",
     "text": [
      "[5, 4, 3, 2, 1]\n"
     ]
    }
   ],
   "source": [
    "# 14.reversing a ist without using reverse() method\n",
    "l = [1,2,3,4,5]\n",
    "reversed_list = l[::-1]\n",
    "print(reversed_list)"
   ]
  },
  {
   "cell_type": "code",
   "execution_count": 54,
   "id": "813220d8-d0a5-423d-b57c-8870da559392",
   "metadata": {},
   "outputs": [
    {
     "name": "stdout",
     "output_type": "stream",
     "text": [
      "[12, 32, 4, 34, 57, 78, 45]\n",
      "[12, 32, 4, 34, 57, 78, 45]\n"
     ]
    }
   ],
   "source": [
    "# 15.removing duplicates\n",
    "#using fromkeys() method\n",
    "l = [12,32,4,34,57,78,12,32,12,45,34]\n",
    "d = dict.fromkeys(l)\n",
    "print(list(d))\n",
    "#print(list(d.keys()))"
   ]
  },
  {
   "cell_type": "code",
   "execution_count": 55,
   "id": "6a08ea13-09c0-43d2-88a7-0ba4bb05440a",
   "metadata": {},
   "outputs": [
    {
     "name": "stdout",
     "output_type": "stream",
     "text": [
      "[12, 32, 4, 34, 57, 78, 45]\n"
     ]
    }
   ],
   "source": [
    "#using loop\n",
    "l = [12,32,4,34,57,78,12,32,12,45,34]\n",
    "unique = []\n",
    "for i in l :\n",
    "    if i in unique:\n",
    "        continue\n",
    "    else:\n",
    "        unique.append(i)\n",
    "print(unique)"
   ]
  },
  {
   "cell_type": "code",
   "execution_count": 69,
   "id": "dd029a89-68f6-4e26-b296-6886de60786d",
   "metadata": {},
   "outputs": [
    {
     "name": "stdout",
     "output_type": "stream",
     "text": [
      "list is sorted in descending order\n"
     ]
    }
   ],
   "source": [
    "# 16.TO check if the given list is sorted or not\n",
    "l = [5,4,3,2,1]\n",
    "if 1 == sorted(l):\n",
    "    print(\"list is sorted in ascending order\")\n",
    "elif l == sorted(l,reverse = True):\n",
    "    print(\"list is sorted in descending order\")\n",
    "else:\n",
    "    print(\"list is not sorted\")\n"
   ]
  },
  {
   "cell_type": "code",
   "execution_count": 73,
   "id": "13707457-c197-44d9-87bd-3aa6e9c8efc1",
   "metadata": {},
   "outputs": [
    {
     "name": "stdout",
     "output_type": "stream",
     "text": [
      "[1, 1, 2, 2, 3, 4, 5, 6]\n"
     ]
    }
   ],
   "source": [
    "# 17.two sorted lists into single sorted list\n",
    "list1 = [1,2,3]\n",
    "list2 = [1,2,4,5,6]\n",
    "merged_list = []\n",
    "\n",
    "i,j = 0,0\n",
    "\n",
    "while i < len(list1) and j < len(list2):\n",
    "    if list1[i] <= list2[j]:\n",
    "        merged_list.append(list1[i])\n",
    "        i+=1\n",
    "    else:\n",
    "        merged_list.append(list2[j])\n",
    "        j+=1\n",
    "merged_list.extend(list1[i::] if i < len(list1) else list2[j::])\n",
    "print(merged_list)\n"
   ]
  },
  {
   "cell_type": "code",
   "execution_count": 76,
   "id": "89498693-f324-48d9-a264-1d7b57723573",
   "metadata": {},
   "outputs": [
    {
     "name": "stdout",
     "output_type": "stream",
     "text": [
      "[1, 2, 2, 4, 4, 1]\n"
     ]
    }
   ],
   "source": [
    "# 18.Intersection of two lists\n",
    "l1 = [1,2,31,2,4,4,1]\n",
    "l2 = [4,2,1,3,4]\n",
    "l = [item for item in l1 if item in l2]\n",
    "print(l)"
   ]
  },
  {
   "cell_type": "code",
   "execution_count": 78,
   "id": "d79d7cd5-f198-4226-901f-6468e2052577",
   "metadata": {},
   "outputs": [
    {
     "name": "stdout",
     "output_type": "stream",
     "text": [
      "[1, 2, 3, 4, 31]\n"
     ]
    }
   ],
   "source": [
    "# 19.union of two lists without duplicates\n",
    "l1 = [1,2,31,2,4,4,1]\n",
    "l2 = [4,2,1,3,4]\n",
    "print( list(set(l1) | set(l2)))"
   ]
  },
  {
   "cell_type": "code",
   "execution_count": 3,
   "id": "6ef7e959-363e-4ab3-b96a-21acbbb8b2a3",
   "metadata": {},
   "outputs": [
    {
     "name": "stdout",
     "output_type": "stream",
     "text": [
      "[2, 1, 5, 6, 4, 3]\n"
     ]
    }
   ],
   "source": [
    "# 20 .Shuffling list \n",
    "import random\n",
    "l = [1,2,3,4,5,6]\n",
    "indices = list(range(len(l)))\n",
    "shuffled_list = []\n",
    "while indices:\n",
    "    random_index = random.randint(0,len(indices)-1)\n",
    "    shuffled_list.append(l[indices[random_index]])\n",
    "    indices.pop(random_index)\n",
    "print(shuffled_list)\n"
   ]
  },
  {
   "cell_type": "code",
   "execution_count": 4,
   "id": "c7399948-a5b1-45f3-814a-e012610291a2",
   "metadata": {
    "editable": true,
    "slideshow": {
     "slide_type": ""
    },
    "tags": []
   },
   "outputs": [
    {
     "name": "stdout",
     "output_type": "stream",
     "text": [
      "(3, 4)\n"
     ]
    }
   ],
   "source": [
    "#21.common elements from two tuples\n",
    "tup1 = (1,2,3,4)\n",
    "tup2 = (3,4,5,6)\n",
    "tup = [item for item in tup1 if item in tup2]\n",
    "print(tuple(tup))\n",
    "\n"
   ]
  },
  {
   "cell_type": "code",
   "execution_count": 1,
   "id": "ec8974a2-05e4-4b1b-9bcd-e4458f1d503e",
   "metadata": {},
   "outputs": [
    {
     "name": "stdin",
     "output_type": "stream",
     "text": [
      "Enter first set of integers :  1,2,3,4,5,6\n",
      "Enter second set of integers :  4,5,6,7,8,9\n"
     ]
    },
    {
     "name": "stdout",
     "output_type": "stream",
     "text": [
      "{'4', '6', '5'}\n",
      "{'4', '6', '5'}\n",
      "{'4', '6', '5'}\n"
     ]
    }
   ],
   "source": [
    "# 22.print the intersection oftwo user given sets\n",
    "\n",
    "s1 = input(\"Enter first set of integers : \").split(',')\n",
    "s2 = input(\"Enter second set of integers : \").split(',')\n",
    "set1 = set(s1)\n",
    "set2 = set(s2)\n",
    "#set comprehension\n",
    "set3 = {item for item in set1 if item in set2}\n",
    "print(set3)\n",
    "#intersection() method\n",
    "set4 = set1.intersection(set2)\n",
    "print(set4)\n",
    "#using and \n",
    "set5 = set1 & set2\n",
    "print(set5)"
   ]
  },
  {
   "cell_type": "code",
   "execution_count": 8,
   "id": "7d0978fe-ea63-4a69-81eb-13bb4c29cb53",
   "metadata": {},
   "outputs": [
    {
     "name": "stdout",
     "output_type": "stream",
     "text": [
      "(1, 2, 3, 4, 5, 'a', 'b', '', 8)\n"
     ]
    }
   ],
   "source": [
    "# 23.concatenation of tuples\n",
    "def tup_concat(tup1,tup2):\n",
    "    return tup1+tup2\n",
    "tup1 = (1,2,3,4,5)\n",
    "tup2 = ('a','b','',8)\n",
    "concatenated_tuple = tup_concat(tup1,tup2)\n",
    "print(concatenated_tuple)"
   ]
  },
  {
   "cell_type": "code",
   "execution_count": 2,
   "id": "5b3f8766-a12c-4393-91a2-e3a69309fe57",
   "metadata": {},
   "outputs": [
    {
     "name": "stdin",
     "output_type": "stream",
     "text": [
      "Enter first set of integers :  1,2,3,4,5,6\n",
      "Enter second set of integers :  6,3,1,7,8\n"
     ]
    },
    {
     "name": "stdout",
     "output_type": "stream",
     "text": [
      "{'4', '2', '5'}\n"
     ]
    }
   ],
   "source": [
    "# 24.performing subtraction operation\n",
    "s1 = input(\"Enter first set of integers : \").split(',')\n",
    "s2 = input(\"Enter second set of integers : \").split(',')\n",
    "set1 = set(s1)\n",
    "set2 = set(s2)\n",
    "set3 = set1 - set2\n",
    "print(set3)"
   ]
  },
  {
   "cell_type": "code",
   "execution_count": 14,
   "id": "e7cd6f97-fb8b-41e5-92b3-f825ab85f4ca",
   "metadata": {},
   "outputs": [
    {
     "name": "stdout",
     "output_type": "stream",
     "text": [
      "(2, 3, 4, 5)\n"
     ]
    }
   ],
   "source": [
    "# 25.returning tuple elements within the sepecified range\n",
    "def function(tup,num1,num2):\n",
    "    range_tup = []\n",
    "    for i in range(len(tup)):\n",
    "        if num1 <= i < num2:\n",
    "            range_tup.append(i)\n",
    "    return tuple(range_tup)\n",
    "tup = (1,2,3,4,5,6,7,8,9)\n",
    "num1 = 2\n",
    "num2 = 6\n",
    "result = function(tup,num1,num2)\n",
    "            \n",
    "print(result)"
   ]
  },
  {
   "cell_type": "code",
   "execution_count": 3,
   "id": "314f15e6-f538-402b-87b9-70cba406b219",
   "metadata": {},
   "outputs": [
    {
     "name": "stdin",
     "output_type": "stream",
     "text": [
      "Enter first set of characters :  'a','b','c','d','e'\n",
      "Enter second set of characters :  'b','c','d','e'\n"
     ]
    },
    {
     "name": "stdout",
     "output_type": "stream",
     "text": [
      "{\"'b'\", \"'d'\", \"'e'\", \"'a'\", \"'c'\"}\n",
      "{\"'b'\", \"'d'\", \"'e'\", \"'a'\", \"'c'\"}\n"
     ]
    }
   ],
   "source": [
    "# 26 . union of two sets\n",
    "\n",
    "s1 = input(\"Enter first set of characters : \").split(',')\n",
    "s2 = input(\"Enter second set of characters : \").split(',')\n",
    "set1 = set(s1)\n",
    "set2 = set(s2)\n",
    "set3 = set1 | set2\n",
    "print(set3)\n",
    "\n",
    "set4 = set1.union(set2)\n",
    "print(set4)"
   ]
  },
  {
   "cell_type": "code",
   "execution_count": 21,
   "id": "862f87b7-a7ae-42dd-9b06-17d47647505f",
   "metadata": {},
   "outputs": [
    {
     "name": "stdout",
     "output_type": "stream",
     "text": [
      "min value =  2\n",
      "max value =  56\n"
     ]
    }
   ],
   "source": [
    "#27.returning min and max from tuple using tuple unpacking\n",
    "def min_max(tup):\n",
    "    sorted_tuple = sorted(tup)\n",
    "    (minimum , *s , maximum) = sorted_tuple\n",
    "    print(\"min value = \",minimum)\n",
    "    print(\"max value = \",maximum)\n",
    "tup = (11,2,3,54,32,56,3,6,8)\n",
    "min_max(tup)\n"
   ]
  },
  {
   "cell_type": "code",
   "execution_count": 4,
   "id": "9e2879cc-2de9-461b-936f-f02187b59429",
   "metadata": {},
   "outputs": [
    {
     "name": "stdin",
     "output_type": "stream",
     "text": [
      "Enter first set of integers :  1,2,3,4,5,6\n",
      "Enter second set of integers :  2,3,4,7,8,9\n"
     ]
    },
    {
     "name": "stdout",
     "output_type": "stream",
     "text": [
      "{'9', '1', '4', '6', '2', '7', '3', '5', '8'}\n",
      "{'4', '2', '3'}\n",
      "{'1', '6', '5'}\n"
     ]
    }
   ],
   "source": [
    "\n",
    "# 28.performing union , intersection and difference operations on two sets\n",
    "s1 = input(\"Enter first set of integers : \").split(',')\n",
    "s2 = input(\"Enter second set of integers : \").split(',')\n",
    "set1 = set(s1)\n",
    "set2 = set(s2)\n",
    "# union\n",
    "print(set1 | set2)\n",
    "#intersection\n",
    "print(set1 & set2)\n",
    "#difference\n",
    "print(set1 - set2)"
   ]
  },
  {
   "cell_type": "code",
   "execution_count": 5,
   "id": "fccb8e59-d38d-4136-b6a9-4e4b904db8d6",
   "metadata": {},
   "outputs": [
    {
     "name": "stdin",
     "output_type": "stream",
     "text": [
      "Enter first set of integers :  1,2,3,4,5,6\n",
      "Enter second set of integers :  4,2,7,8,9\n"
     ]
    },
    {
     "name": "stdout",
     "output_type": "stream",
     "text": [
      "The symmetric difference between the two sets is: {'9', '1', '3', '6', '5', '8', '7'}\n"
     ]
    }
   ],
   "source": [
    "# 30 . input two sets and perform symmetric difference\n",
    "s1 = input(\"Enter first set of integers : \").split(',')\n",
    "s2 = input(\"Enter second set of integers : \").split(',')\n",
    "set1 = set(s1)\n",
    "set2 = set(s2)\n",
    "sym_diff = set1.symmetric_difference(set2)\n",
    "print(\"The symmetric difference between the two sets is:\", sym_diff)\n"
   ]
  },
  {
   "cell_type": "code",
   "execution_count": 9,
   "id": "87349418-d148-4e85-9d67-bcd5ebd290cb",
   "metadata": {},
   "outputs": [
    {
     "name": "stdin",
     "output_type": "stream",
     "text": [
      "Enter a list of Strings :  'sai','sai','sai','suma','sai','srinu','srinu'\n"
     ]
    },
    {
     "name": "stdout",
     "output_type": "stream",
     "text": [
      "{\"'sai'\": None, \"'suma'\": None, \"'srinu'\": None}\n",
      "{\"'sai'\": 4, \"'suma'\": 1, \"'srinu'\": 2}\n"
     ]
    }
   ],
   "source": [
    "# 31 \n",
    "l = input(\"Enter a list of Strings(seperated by commas) : \").split(',')\n",
    "d = dict.fromkeys(l)\n",
    "print(d)\n",
    "for i in l:\n",
    "    d[i] = l.count(i)\n",
    "print(d)"
   ]
  },
  {
   "cell_type": "code",
   "execution_count": 4,
   "id": "23f2fa72-8ce6-4c43-ac78-2a0e83fc3f87",
   "metadata": {},
   "outputs": [
    {
     "name": "stdin",
     "output_type": "stream",
     "text": [
      "Enter no of items in dictionary1 :  3\n",
      "Enter no of items in dictionary2:  3\n"
     ]
    },
    {
     "name": "stdout",
     "output_type": "stream",
     "text": [
      "Enter the values for dictionary 1 :\n"
     ]
    },
    {
     "name": "stdin",
     "output_type": "stream",
     "text": [
      "Enter Key :  a\n",
      "Enter value :  1\n",
      "Enter Key :  b\n",
      "Enter value :  2\n",
      "Enter Key :  c\n",
      "Enter value :  3\n"
     ]
    },
    {
     "name": "stdout",
     "output_type": "stream",
     "text": [
      "Enter the values for dictionary 2 :\n"
     ]
    },
    {
     "name": "stdin",
     "output_type": "stream",
     "text": [
      "Enter Key :  d\n",
      "Enter value :  4\n",
      "Enter Key :  e\n",
      "Enter value :  5\n",
      "Enter Key :  a\n",
      "Enter value :  3\n"
     ]
    },
    {
     "name": "stdout",
     "output_type": "stream",
     "text": [
      "{'a': '13', 'b': '2', 'c': '3', 'd': '4', 'e': '5'}\n"
     ]
    }
   ],
   "source": [
    "#32.\n",
    "dic1 = {}\n",
    "dic2 = {}\n",
    "\n",
    "len1 = int(input(\"Enter no of items in dictionary1 : \"))\n",
    "len2 = int(input(\"Enter no of items in dictionary2: \"))\n",
    "print(\"Enter the values for dictionary 1 :\")\n",
    "for i in range(len1):\n",
    "    key = input(\"Enter Key : \")\n",
    "    value = input(\"Enter value : \")\n",
    "    dic1[key] = value\n",
    "print(\"Enter the values for dictionary 2 :\")\n",
    "for i in range(len2):\n",
    "    key = input(\"Enter Key : \")\n",
    "    value = input(\"Enter value : \")\n",
    "    dic2[key] = value\n",
    "def merged_dict(dict1,dict2):\n",
    "    merged = dict1.copy()\n",
    "    for key,value in dict2.items():\n",
    "        if key in merged:\n",
    "            merged[key] += value\n",
    "        else:\n",
    "            merged[key] = value\n",
    "    return merged\n",
    "result = merged_dict(dic1,dic2)\n",
    "print(result)\n",
    "\n",
    "    "
   ]
  },
  {
   "cell_type": "code",
   "execution_count": 9,
   "id": "e83f8e2f-78d9-41cf-a73e-ddbe01174654",
   "metadata": {},
   "outputs": [
    {
     "name": "stdin",
     "output_type": "stream",
     "text": [
      "Enter the keys separated by spaces:  a\n"
     ]
    },
    {
     "name": "stdout",
     "output_type": "stream",
     "text": [
      "{'b': {'c': 10, 'd': 20}, 'e': 30}\n"
     ]
    }
   ],
   "source": [
    "# 33.\n",
    "\n",
    "def get_nested_value(nested_dict, keys):\n",
    "    dic = nested_dict\n",
    "    for key in keys:\n",
    "        if key in dic:\n",
    "            dic = dic[key]  \n",
    "        else:\n",
    "            return None \n",
    "    return dic\n",
    "\n",
    "nested_dict = {\n",
    "    'a': {'b': {'c': 10,'d': 20},'e': 30},\n",
    "    'f': 40,\n",
    "    'g':{'d':3,'e':45}\n",
    "}\n",
    "\n",
    "keys = input(\"Enter the keys separated by spaces: \").split()\n",
    "\n",
    "result = get_nested_value(nested_dict, keys)\n",
    "print(result)\n"
   ]
  },
  {
   "cell_type": "code",
   "execution_count": 17,
   "id": "d22971c9-c4b6-4f7f-a8f6-7d651f8c12a6",
   "metadata": {},
   "outputs": [
    {
     "name": "stdin",
     "output_type": "stream",
     "text": [
      "Enter a dictionary :  {'a':11,'b':3,'c':45,'d':6}\n",
      "Enter sorting order (asc/desc):  desc\n"
     ]
    },
    {
     "name": "stdout",
     "output_type": "stream",
     "text": [
      "Sorted dictionary by values: {'c': 45, 'a': 11, 'd': 6, 'b': 3}\n"
     ]
    }
   ],
   "source": [
    "# 34\n",
    "def sort_by_value(input_dict, order=\"asc\"):\n",
    "    if order == \"asc\":\n",
    "        return dict(sorted(input_dict.items(), key=lambda item: item[1]))\n",
    "    elif order == \"desc\":\n",
    "        return dict(sorted(input_dict.items(), key=lambda item: item[1], reverse=True))\n",
    "    else:\n",
    "        print(\"Invalid order specified. Choose 'asc' or 'desc'.\")\n",
    "        return None\n",
    "input_dict = eval(input(\"Enter a dictionary : \"))\n",
    "order = input(\"Enter sorting order (asc/desc): \").lower()\n",
    "sorted_dict = sort_by_value(input_dict, order)\n",
    "if sorted_dict:\n",
    "    print(\"Sorted dictionary by values:\", sorted_dict)\n"
   ]
  },
  {
   "cell_type": "code",
   "execution_count": 20,
   "id": "a216afbd-eb69-4920-8bcd-cc7b853d95a1",
   "metadata": {},
   "outputs": [
    {
     "name": "stdin",
     "output_type": "stream",
     "text": [
      "Enter a dictionary :  {'a':1,'b':2,'c':1,'d':3,'e':4,'f':2}\n"
     ]
    },
    {
     "name": "stdout",
     "output_type": "stream",
     "text": [
      "Inverted dictionary: {1: ['a', 'c'], 2: ['b', 'f'], 3: ['d'], 4: ['e']}\n"
     ]
    }
   ],
   "source": [
    "#35 Function to invert a dictionary, handling multiple keys with the same value\n",
    "def invert_dict(input_dict):\n",
    "    inverted_dict = {}\n",
    "    for key, value in input_dict.items():\n",
    "        if value in inverted_dict:\n",
    "            inverted_dict[value].append(key) \n",
    "        else:\n",
    "            inverted_dict[value] = [key]  \n",
    "    return inverted_dict\n",
    "input_dict = eval(input(\"Enter a dictionary : \"))\n",
    "inverted_dict = invert_dict(input_dict)\n",
    "print(\"Inverted dictionary:\", inverted_dict)\n"
   ]
  },
  {
   "cell_type": "code",
   "execution_count": null,
   "id": "ff0018bf-28e2-4bc4-88de-896a23201b08",
   "metadata": {},
   "outputs": [],
   "source": []
  }
 ],
 "metadata": {
  "kernelspec": {
   "display_name": "Python 3 (ipykernel)",
   "language": "python",
   "name": "python3"
  },
  "language_info": {
   "codemirror_mode": {
    "name": "ipython",
    "version": 3
   },
   "file_extension": ".py",
   "mimetype": "text/x-python",
   "name": "python",
   "nbconvert_exporter": "python",
   "pygments_lexer": "ipython3",
   "version": "3.12.4"
  }
 },
 "nbformat": 4,
 "nbformat_minor": 5
}
